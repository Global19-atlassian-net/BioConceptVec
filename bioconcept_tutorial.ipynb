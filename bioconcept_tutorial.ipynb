{
 "cells": [
  {
   "cell_type": "markdown",
   "metadata": {},
   "source": [
    "# BioConceptVec Tutorial"
   ]
  },
  {
   "cell_type": "markdown",
   "metadata": {},
   "source": [
    "This tutorial provides a fundemental introduction to our BioConceptVec models. It illustrates (1) how to load the model, (2) how to get concept vectors, and (3) how to search top K similar concepts."
   ]
  },
  {
   "cell_type": "markdown",
   "metadata": {},
   "source": [
    "## 1. Prerequisites"
   ]
  },
  {
   "cell_type": "markdown",
   "metadata": {},
   "source": [
    "Install gensim to load BioConceptVec."
   ]
  },
  {
   "cell_type": "code",
   "execution_count": 33,
   "metadata": {},
   "outputs": [],
   "source": [
    "from gensim.models import KeyedVectors\n",
    "import os, sys, json, numpy as np"
   ]
  },
  {
   "cell_type": "markdown",
   "metadata": {},
   "source": [
    "## 2. Load BioConceptVec"
   ]
  },
  {
   "cell_type": "markdown",
   "metadata": {},
   "source": [
    "Let's create a function using gensim to load BioConceptVec."
   ]
  },
  {
   "cell_type": "code",
   "execution_count": 16,
   "metadata": {},
   "outputs": [],
   "source": [
    "def load_embedding(path, binary):\n",
    "    embedding = KeyedVectors.load_word2vec_format(path, binary)\n",
    "    print('embedding loaded from', path)\n",
    "    return embedding"
   ]
  },
  {
   "cell_type": "markdown",
   "metadata": {},
   "source": [
    "Let's load any one version of BioConceptVec. This might take a few minutes to load."
   ]
  },
  {
   "cell_type": "code",
   "execution_count": 17,
   "metadata": {},
   "outputs": [
    {
     "name": "stdout",
     "output_type": "stream",
     "text": [
      "exists\n",
      "embedding loaded from /panfs/pan1.be-md.ncbi.nlm.nih.gov/bionlp/lulab/qingyu/entity_embedding/0308/pubmed_concepts_word2vec_skip.bin\n"
     ]
    }
   ],
   "source": [
    "model = load_embedding(YOUR_BIOCONCEPTVEC_PATH, binary=True)"
   ]
  },
  {
   "cell_type": "markdown",
   "metadata": {},
   "source": [
    "## 3. Load concept vectors only (an alternative approach)"
   ]
  },
  {
   "cell_type": "markdown",
   "metadata": {},
   "source": [
    "If you only need concept vectors rather than other common word vectors, you could also load the json file that contains concept vectors only."
   ]
  },
  {
   "cell_type": "code",
   "execution_count": 29,
   "metadata": {},
   "outputs": [
    {
     "name": "stdout",
     "output_type": "stream",
     "text": [
      "load 402712 concepts\n"
     ]
    }
   ],
   "source": [
    "with open(YOUR_JSON_PATH) as json_file:  \n",
    "    concept_vectors = json.load(json_file)\n",
    "print('load', len(concept_vectors), 'concepts')"
   ]
  },
  {
   "cell_type": "markdown",
   "metadata": {},
   "source": [
    "## 4. Get concept vectors"
   ]
  },
  {
   "cell_type": "markdown",
   "metadata": {},
   "source": [
    "Now you could specify a concept ID and get the vector."
   ]
  },
  {
   "cell_type": "markdown",
   "metadata": {},
   "source": [
    "For the complete BioConceptVec model, you could use:"
   ]
  },
  {
   "cell_type": "code",
   "execution_count": 30,
   "metadata": {},
   "outputs": [
    {
     "data": {
      "text/plain": [
       "array([-0.01676855,  0.56551105,  1.00418   ,  0.13895853,  0.0487967 ,\n",
       "        0.167735  , -0.07339028,  0.4984045 , -0.18709421, -0.07556584,\n",
       "       -0.2731313 , -0.4116881 ,  0.089853  ,  0.48193076, -0.257556  ,\n",
       "       -0.46385273,  0.21456282,  0.4653187 ,  0.54888815,  0.24953978,\n",
       "        0.12102792,  0.16346483, -0.21817666,  0.17584416,  0.00181668,\n",
       "        0.06124614, -0.665759  ,  0.27698943, -0.34381142, -0.29450157,\n",
       "       -0.04999237, -0.42160794,  0.587909  ,  0.04599308, -0.52086115,\n",
       "       -0.3301775 , -0.4439534 , -0.07623559,  1.1971241 , -0.05919534,\n",
       "       -0.3013499 , -0.32670468, -0.69612557, -0.1875824 , -0.27888337,\n",
       "        0.21057817,  0.1439918 , -0.5378452 ,  0.24323015, -0.19288874,\n",
       "       -0.26549867,  0.57281816, -0.5705898 , -0.07732881,  0.39814204,\n",
       "        0.5079281 ,  0.01936658,  0.78174835, -0.42671528, -0.10127745,\n",
       "        0.7548943 ,  0.2102662 ,  0.10312578,  0.16521394,  0.10868917,\n",
       "       -1.3835231 ,  0.6732168 , -0.22165756,  0.17197599, -0.63497144,\n",
       "       -0.08969615,  0.21237066, -0.907003  ,  1.1415814 , -0.61498743,\n",
       "       -0.11906599,  0.28348017,  0.07116657, -0.39458865,  0.10406175,\n",
       "        0.5030644 ,  0.21058439, -0.03956586, -0.6420697 ,  0.23658858,\n",
       "       -0.13384657,  0.2065848 , -0.6636525 , -0.2535231 ,  0.7523341 ,\n",
       "       -0.3637135 , -0.23915079,  0.04755536,  0.01878686, -0.13851313,\n",
       "       -0.56668204, -0.13115461, -0.10365731,  0.2567746 ,  0.05748362],\n",
       "      dtype=float32)"
      ]
     },
     "execution_count": 30,
     "metadata": {},
     "output_type": "execute_result"
    }
   ],
   "source": [
    "concept_vec = model['Gene_2997']\n",
    "concept_vec"
   ]
  },
  {
   "cell_type": "markdown",
   "metadata": {},
   "source": [
    "For the json file, it is a dictionary, so the code is exactly the same:"
   ]
  },
  {
   "cell_type": "code",
   "execution_count": 34,
   "metadata": {},
   "outputs": [
    {
     "data": {
      "text/plain": [
       "array([-0.01676855,  0.56551105,  1.00417995,  0.13895853,  0.0487967 ,\n",
       "        0.167735  , -0.07339028,  0.4984045 , -0.18709421, -0.07556584,\n",
       "       -0.27313131, -0.41168809,  0.089853  ,  0.48193076, -0.25755599,\n",
       "       -0.46385273,  0.21456282,  0.46531871,  0.54888815,  0.24953978,\n",
       "        0.12102792,  0.16346483, -0.21817666,  0.17584416,  0.00181668,\n",
       "        0.06124614, -0.66575903,  0.27698943, -0.34381142, -0.29450157,\n",
       "       -0.04999237, -0.42160794,  0.58790898,  0.04599308, -0.52086115,\n",
       "       -0.33017749, -0.44395339, -0.07623559,  1.19712412, -0.05919534,\n",
       "       -0.30134991, -0.32670468, -0.69612557, -0.1875824 , -0.27888337,\n",
       "        0.21057817,  0.1439918 , -0.53784519,  0.24323015, -0.19288874,\n",
       "       -0.26549867,  0.57281816, -0.57058978, -0.07732881,  0.39814204,\n",
       "        0.50792807,  0.01936658,  0.78174835, -0.42671528, -0.10127745,\n",
       "        0.75489432,  0.2102662 ,  0.10312578,  0.16521394,  0.10868917,\n",
       "       -1.38352311,  0.67321682, -0.22165756,  0.17197599, -0.63497144,\n",
       "       -0.08969615,  0.21237066, -0.90700299,  1.14158142, -0.61498743,\n",
       "       -0.11906599,  0.28348017,  0.07116657, -0.39458865,  0.10406175,\n",
       "        0.50306439,  0.21058439, -0.03956586, -0.6420697 ,  0.23658858,\n",
       "       -0.13384657,  0.2065848 , -0.66365248, -0.25352311,  0.75233412,\n",
       "       -0.3637135 , -0.23915079,  0.04755536,  0.01878686, -0.13851313,\n",
       "       -0.56668204, -0.13115461, -0.10365731,  0.2567746 ,  0.05748362])"
      ]
     },
     "execution_count": 34,
     "metadata": {},
     "output_type": "execute_result"
    }
   ],
   "source": [
    "np.array(concept_vectors['Gene_2997'])"
   ]
  },
  {
   "cell_type": "markdown",
   "metadata": {},
   "source": [
    "Similarly, you could use the concept IDs that we provided in the json file to get more concept vectors."
   ]
  },
  {
   "cell_type": "markdown",
   "metadata": {},
   "source": [
    "## 5.Compute the similarity between concepts"
   ]
  },
  {
   "cell_type": "markdown",
   "metadata": {},
   "source": [
    "Now we can use the concept vectors to find similar concepts."
   ]
  },
  {
   "cell_type": "markdown",
   "metadata": {},
   "source": [
    "First let's create a function to calculate the Cosine similarity"
   ]
  },
  {
   "cell_type": "code",
   "execution_count": 36,
   "metadata": {},
   "outputs": [],
   "source": [
    "def cosine(a, b):\n",
    "    norm1 = np.linalg.norm(a)\n",
    "    norm2 = np.linalg.norm(b)\n",
    "    return np.dot(a, b) / (norm1 * norm2)\n",
    "    "
   ]
  },
  {
   "cell_type": "markdown",
   "metadata": {},
   "source": [
    "For example, for the interleukin 10 gene (Gene_3586), let's find out which gene is more similar to it, interleukin 4 gene (Gene_3565) or HUWE1 (Gene_10075)?"
   ]
  },
  {
   "cell_type": "code",
   "execution_count": 40,
   "metadata": {},
   "outputs": [
    {
     "data": {
      "text/plain": [
       "0.9248491"
      ]
     },
     "execution_count": 40,
     "metadata": {},
     "output_type": "execute_result"
    }
   ],
   "source": [
    "cosine(model['Gene_3586'], model['Gene_3565'])"
   ]
  },
  {
   "cell_type": "code",
   "execution_count": 41,
   "metadata": {},
   "outputs": [
    {
     "data": {
      "text/plain": [
       "0.265184"
      ]
     },
     "execution_count": 41,
     "metadata": {},
     "output_type": "execute_result"
    }
   ],
   "source": [
    "cosine(model['Gene_3586'], model['Gene_10075'])"
   ]
  },
  {
   "cell_type": "markdown",
   "metadata": {},
   "source": [
    "The results show that interleukin 4 gene is more similar to interleukin 10 gene. Indeed, they share GO terms."
   ]
  },
  {
   "cell_type": "markdown",
   "metadata": {},
   "source": [
    "## 6. Find top K similar terms via BioConceptVec"
   ]
  },
  {
   "cell_type": "markdown",
   "metadata": {},
   "source": [
    "You can also use the embedding to find out the top K similar terms:"
   ]
  },
  {
   "cell_type": "code",
   "execution_count": 43,
   "metadata": {},
   "outputs": [
    {
     "data": {
      "text/plain": [
       "[('Gene_3458', 0.9307081699371338),\n",
       " ('Gene_3565', 0.9248490333557129),\n",
       " ('Gene_3606', 0.9062291383743286)]"
      ]
     },
     "execution_count": 43,
     "metadata": {},
     "output_type": "execute_result"
    }
   ],
   "source": [
    "model.most_similar(positive=['Gene_3586'], topn=3)"
   ]
  },
  {
   "cell_type": "code",
   "execution_count": null,
   "metadata": {},
   "outputs": [],
   "source": []
  }
 ],
 "metadata": {
  "kernelspec": {
   "display_name": "Python 3",
   "language": "python",
   "name": "python3"
  },
  "language_info": {
   "codemirror_mode": {
    "name": "ipython",
    "version": 3
   },
   "file_extension": ".py",
   "mimetype": "text/x-python",
   "name": "python",
   "nbconvert_exporter": "python",
   "pygments_lexer": "ipython3",
   "version": "3.6.2"
  }
 },
 "nbformat": 4,
 "nbformat_minor": 2
}
